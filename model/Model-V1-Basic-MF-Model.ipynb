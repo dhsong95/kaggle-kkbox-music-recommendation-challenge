{
 "cells": [
  {
   "cell_type": "markdown",
   "metadata": {},
   "source": [
    "<center><h1>Model v1 - baseline</h1></center>"
   ]
  },
  {
   "cell_type": "markdown",
   "metadata": {},
   "source": [
    "Kaggle Competition for Music Recommendation. Do Sample Matrix Factorization. Results in socre 0.54166."
   ]
  },
  {
   "cell_type": "markdown",
   "metadata": {},
   "source": [
    "<hr>"
   ]
  },
  {
   "cell_type": "markdown",
   "metadata": {},
   "source": [
    "## Table of Contents\n",
    "1. [Environment Setting](#1)\n",
    "    1. [Import Library](#1.1)\n",
    "    2. [Load Dataset](#1.2)\n",
    "2. [Data Modeling](#2)\n",
    "    1. [Split Train and Validation Dataset](#2.1)\n",
    "    2. [Dataframe to Sparce Matrix](#2.2)\n",
    "    3. [Matrix Factorization: Truncated SVD](#2.3)\n",
    "    4. [Prediction(Recommendation)](#2.4)\n",
    "3. [Submission](#3)\n",
    "    1. [Make Full Train Dataset](#3.1)\n",
    "    2. [Modeling using Full Train Dataset](#3.2)\n",
    "    3. [Make Prediction for Submission](#3.3)"
   ]
  },
  {
   "cell_type": "markdown",
   "metadata": {},
   "source": [
    "<hr>"
   ]
  },
  {
   "cell_type": "markdown",
   "metadata": {},
   "source": [
    "## Environment Setting <a id=\"1\"></a>"
   ]
  },
  {
   "cell_type": "markdown",
   "metadata": {},
   "source": [
    "### Import Library <a id=\"1.1\"></a>"
   ]
  },
  {
   "cell_type": "code",
   "execution_count": 1,
   "metadata": {},
   "outputs": [],
   "source": [
    "# Dataframe\n",
    "import pandas as pd\n",
    "\n",
    "# Numerical Data\n",
    "import numpy as np\n",
    "\n",
    "# Matrix Factorization: SVD\n",
    "from sklearn.decomposition import TruncatedSVD\n",
    "\n",
    "# Sparse Matrix\n",
    "from scipy.sparse import csr_matrix\n",
    "\n",
    "# FOR Loop Visualization(verbose)\n",
    "from tqdm import tqdm\n",
    "\n",
    "# Visualization\n",
    "import matplotlib.pyplot as plt\n",
    "from matplotlib import font_manager as fm"
   ]
  },
  {
   "cell_type": "code",
   "execution_count": 2,
   "metadata": {},
   "outputs": [],
   "source": [
    "pd.options.display.max_rows = 499\n",
    "pd.options.display.max_columns = 499\n",
    "pd.options.mode.chained_assignment = None"
   ]
  },
  {
   "cell_type": "code",
   "execution_count": 3,
   "metadata": {},
   "outputs": [],
   "source": [
    "fname = '../static/fonts/D2Coding.ttc'\n",
    "ffamily = fm.FontProperties(fname=fname).get_name()\n",
    "plt.rcParams['font.family'] = ffamily\n",
    "plt.rcParams['font.size'] = 14"
   ]
  },
  {
   "cell_type": "code",
   "execution_count": 4,
   "metadata": {},
   "outputs": [],
   "source": [
    "%matplotlib inline"
   ]
  },
  {
   "cell_type": "markdown",
   "metadata": {},
   "source": [
    "### Load Dataset <a id=\"1.2\"></a>"
   ]
  },
  {
   "cell_type": "code",
   "execution_count": 5,
   "metadata": {},
   "outputs": [],
   "source": [
    "train = pd.read_csv('../data/train.csv')\n",
    "test = pd.read_csv('../data/test.csv')\n",
    "sample_submission = pd.read_csv('../data/sample_submission.csv')"
   ]
  },
  {
   "cell_type": "code",
   "execution_count": 6,
   "metadata": {},
   "outputs": [
    {
     "output_type": "execute_result",
     "data": {
      "text/plain": "                                           msno  \\\n0  FGtllVqz18RPiwJj/edr2gV78zirAiY/9SmYvia+kCg=   \n1  Xumu+NIjS6QYVxDS4/t3SawvJ7viT9hPKXmf0RtLNx8=   \n2  Xumu+NIjS6QYVxDS4/t3SawvJ7viT9hPKXmf0RtLNx8=   \n3  Xumu+NIjS6QYVxDS4/t3SawvJ7viT9hPKXmf0RtLNx8=   \n4  FGtllVqz18RPiwJj/edr2gV78zirAiY/9SmYvia+kCg=   \n\n                                        song_id source_system_tab  \\\n0  BBzumQNXUHKdEBOB7mAJuzok+IJA1c2Ryg/yzTF6tik=           explore   \n1  bhp/MpSNoqoxOIB+/l8WPqu6jldth4DIpCm3ayXnJqM=        my library   \n2  JNWfrrC7zNN7BdMpsISKa4Mw+xVJYNnxXh3/Epw7QgY=        my library   \n3  2A87tzfnJTSWqD7gIZHisolhe4DMdzkbd6LzO1KHjNs=        my library   \n4  3qm6XTZ6MOCU11x8FIVbAGH5l5uMkT3/ZalWG1oo2Gc=           explore   \n\n    source_screen_name      source_type  target  \n0              Explore  online-playlist       1  \n1  Local playlist more   local-playlist       1  \n2  Local playlist more   local-playlist       1  \n3  Local playlist more   local-playlist       1  \n4              Explore  online-playlist       1  ",
      "text/html": "<div>\n<style scoped>\n    .dataframe tbody tr th:only-of-type {\n        vertical-align: middle;\n    }\n\n    .dataframe tbody tr th {\n        vertical-align: top;\n    }\n\n    .dataframe thead th {\n        text-align: right;\n    }\n</style>\n<table border=\"1\" class=\"dataframe\">\n  <thead>\n    <tr style=\"text-align: right;\">\n      <th></th>\n      <th>msno</th>\n      <th>song_id</th>\n      <th>source_system_tab</th>\n      <th>source_screen_name</th>\n      <th>source_type</th>\n      <th>target</th>\n    </tr>\n  </thead>\n  <tbody>\n    <tr>\n      <th>0</th>\n      <td>FGtllVqz18RPiwJj/edr2gV78zirAiY/9SmYvia+kCg=</td>\n      <td>BBzumQNXUHKdEBOB7mAJuzok+IJA1c2Ryg/yzTF6tik=</td>\n      <td>explore</td>\n      <td>Explore</td>\n      <td>online-playlist</td>\n      <td>1</td>\n    </tr>\n    <tr>\n      <th>1</th>\n      <td>Xumu+NIjS6QYVxDS4/t3SawvJ7viT9hPKXmf0RtLNx8=</td>\n      <td>bhp/MpSNoqoxOIB+/l8WPqu6jldth4DIpCm3ayXnJqM=</td>\n      <td>my library</td>\n      <td>Local playlist more</td>\n      <td>local-playlist</td>\n      <td>1</td>\n    </tr>\n    <tr>\n      <th>2</th>\n      <td>Xumu+NIjS6QYVxDS4/t3SawvJ7viT9hPKXmf0RtLNx8=</td>\n      <td>JNWfrrC7zNN7BdMpsISKa4Mw+xVJYNnxXh3/Epw7QgY=</td>\n      <td>my library</td>\n      <td>Local playlist more</td>\n      <td>local-playlist</td>\n      <td>1</td>\n    </tr>\n    <tr>\n      <th>3</th>\n      <td>Xumu+NIjS6QYVxDS4/t3SawvJ7viT9hPKXmf0RtLNx8=</td>\n      <td>2A87tzfnJTSWqD7gIZHisolhe4DMdzkbd6LzO1KHjNs=</td>\n      <td>my library</td>\n      <td>Local playlist more</td>\n      <td>local-playlist</td>\n      <td>1</td>\n    </tr>\n    <tr>\n      <th>4</th>\n      <td>FGtllVqz18RPiwJj/edr2gV78zirAiY/9SmYvia+kCg=</td>\n      <td>3qm6XTZ6MOCU11x8FIVbAGH5l5uMkT3/ZalWG1oo2Gc=</td>\n      <td>explore</td>\n      <td>Explore</td>\n      <td>online-playlist</td>\n      <td>1</td>\n    </tr>\n  </tbody>\n</table>\n</div>"
     },
     "metadata": {},
     "execution_count": 6
    }
   ],
   "source": [
    "train.head()"
   ]
  },
  {
   "cell_type": "code",
   "execution_count": 7,
   "metadata": {},
   "outputs": [
    {
     "output_type": "execute_result",
     "data": {
      "text/plain": "   id                                          msno  \\\n0   0  V8ruy7SGk7tDm3zA51DPpn6qutt+vmKMBKa21dp54uM=   \n1   1  V8ruy7SGk7tDm3zA51DPpn6qutt+vmKMBKa21dp54uM=   \n2   2  /uQAlrAkaczV+nWCd2sPF2ekvXPRipV7q0l+gbLuxjw=   \n3   3  1a6oo/iXKatxQx4eS9zTVD+KlSVaAFbTIqVvwLC1Y0k=   \n4   4  1a6oo/iXKatxQx4eS9zTVD+KlSVaAFbTIqVvwLC1Y0k=   \n\n                                        song_id source_system_tab  \\\n0  WmHKgKMlp1lQMecNdNvDMkvIycZYHnFwDT72I5sIssc=        my library   \n1  y/rsZ9DC7FwK5F2PK2D5mj+aOBUJAjuu3dZ14NgE0vM=        my library   \n2  8eZLFOdGVdXBSqoAv5nsLigeH2BvKXzTQYtUM53I0k4=          discover   \n3  ztCf8thYsS4YN3GcIL/bvoxLm/T5mYBVKOO4C9NiVfQ=             radio   \n4  MKVMpslKcQhMaFEgcEQhEfi5+RZhMYlU3eRDpySrH8Y=             radio   \n\n    source_screen_name          source_type  \n0  Local playlist more        local-library  \n1  Local playlist more        local-library  \n2                  NaN  song-based-playlist  \n3                Radio                radio  \n4                Radio                radio  ",
      "text/html": "<div>\n<style scoped>\n    .dataframe tbody tr th:only-of-type {\n        vertical-align: middle;\n    }\n\n    .dataframe tbody tr th {\n        vertical-align: top;\n    }\n\n    .dataframe thead th {\n        text-align: right;\n    }\n</style>\n<table border=\"1\" class=\"dataframe\">\n  <thead>\n    <tr style=\"text-align: right;\">\n      <th></th>\n      <th>id</th>\n      <th>msno</th>\n      <th>song_id</th>\n      <th>source_system_tab</th>\n      <th>source_screen_name</th>\n      <th>source_type</th>\n    </tr>\n  </thead>\n  <tbody>\n    <tr>\n      <th>0</th>\n      <td>0</td>\n      <td>V8ruy7SGk7tDm3zA51DPpn6qutt+vmKMBKa21dp54uM=</td>\n      <td>WmHKgKMlp1lQMecNdNvDMkvIycZYHnFwDT72I5sIssc=</td>\n      <td>my library</td>\n      <td>Local playlist more</td>\n      <td>local-library</td>\n    </tr>\n    <tr>\n      <th>1</th>\n      <td>1</td>\n      <td>V8ruy7SGk7tDm3zA51DPpn6qutt+vmKMBKa21dp54uM=</td>\n      <td>y/rsZ9DC7FwK5F2PK2D5mj+aOBUJAjuu3dZ14NgE0vM=</td>\n      <td>my library</td>\n      <td>Local playlist more</td>\n      <td>local-library</td>\n    </tr>\n    <tr>\n      <th>2</th>\n      <td>2</td>\n      <td>/uQAlrAkaczV+nWCd2sPF2ekvXPRipV7q0l+gbLuxjw=</td>\n      <td>8eZLFOdGVdXBSqoAv5nsLigeH2BvKXzTQYtUM53I0k4=</td>\n      <td>discover</td>\n      <td>NaN</td>\n      <td>song-based-playlist</td>\n    </tr>\n    <tr>\n      <th>3</th>\n      <td>3</td>\n      <td>1a6oo/iXKatxQx4eS9zTVD+KlSVaAFbTIqVvwLC1Y0k=</td>\n      <td>ztCf8thYsS4YN3GcIL/bvoxLm/T5mYBVKOO4C9NiVfQ=</td>\n      <td>radio</td>\n      <td>Radio</td>\n      <td>radio</td>\n    </tr>\n    <tr>\n      <th>4</th>\n      <td>4</td>\n      <td>1a6oo/iXKatxQx4eS9zTVD+KlSVaAFbTIqVvwLC1Y0k=</td>\n      <td>MKVMpslKcQhMaFEgcEQhEfi5+RZhMYlU3eRDpySrH8Y=</td>\n      <td>radio</td>\n      <td>Radio</td>\n      <td>radio</td>\n    </tr>\n  </tbody>\n</table>\n</div>"
     },
     "metadata": {},
     "execution_count": 7
    }
   ],
   "source": [
    "test.head()"
   ]
  },
  {
   "cell_type": "code",
   "execution_count": 8,
   "metadata": {},
   "outputs": [
    {
     "output_type": "execute_result",
     "data": {
      "text/plain": "   id  target\n0   0     0.5\n1   1     0.5\n2   2     0.5\n3   3     0.5\n4   4     0.5",
      "text/html": "<div>\n<style scoped>\n    .dataframe tbody tr th:only-of-type {\n        vertical-align: middle;\n    }\n\n    .dataframe tbody tr th {\n        vertical-align: top;\n    }\n\n    .dataframe thead th {\n        text-align: right;\n    }\n</style>\n<table border=\"1\" class=\"dataframe\">\n  <thead>\n    <tr style=\"text-align: right;\">\n      <th></th>\n      <th>id</th>\n      <th>target</th>\n    </tr>\n  </thead>\n  <tbody>\n    <tr>\n      <th>0</th>\n      <td>0</td>\n      <td>0.5</td>\n    </tr>\n    <tr>\n      <th>1</th>\n      <td>1</td>\n      <td>0.5</td>\n    </tr>\n    <tr>\n      <th>2</th>\n      <td>2</td>\n      <td>0.5</td>\n    </tr>\n    <tr>\n      <th>3</th>\n      <td>3</td>\n      <td>0.5</td>\n    </tr>\n    <tr>\n      <th>4</th>\n      <td>4</td>\n      <td>0.5</td>\n    </tr>\n  </tbody>\n</table>\n</div>"
     },
     "metadata": {},
     "execution_count": 8
    }
   ],
   "source": [
    "sample_submission.head()"
   ]
  },
  {
   "cell_type": "markdown",
   "metadata": {},
   "source": [
    "<hr>"
   ]
  },
  {
   "cell_type": "markdown",
   "metadata": {},
   "source": [
    "## Data Modeling <a id=\"2\"></a>"
   ]
  },
  {
   "cell_type": "markdown",
   "metadata": {},
   "source": [
    "### Split Train and Validation Dataset <a id=\"2.1\"></a>"
   ]
  },
  {
   "cell_type": "code",
   "execution_count": 9,
   "metadata": {},
   "outputs": [
    {
     "output_type": "execute_result",
     "data": {
      "text/plain": "(7377418, 6)"
     },
     "metadata": {},
     "execution_count": 9
    }
   ],
   "source": [
    "train.shape"
   ]
  },
  {
   "cell_type": "code",
   "execution_count": 10,
   "metadata": {},
   "outputs": [],
   "source": [
    "validation = train.sample(frac=0.1, random_state=2020)\n",
    "train = train.drop(validation.index)"
   ]
  },
  {
   "cell_type": "code",
   "execution_count": 11,
   "metadata": {},
   "outputs": [],
   "source": [
    "train = train.reset_index(drop=True)\n",
    "validation = validation.reset_index(drop=True)"
   ]
  },
  {
   "cell_type": "code",
   "execution_count": 12,
   "metadata": {},
   "outputs": [
    {
     "output_type": "execute_result",
     "data": {
      "text/plain": "(6639676, 6)"
     },
     "metadata": {},
     "execution_count": 12
    }
   ],
   "source": [
    "train.shape"
   ]
  },
  {
   "cell_type": "code",
   "execution_count": 13,
   "metadata": {},
   "outputs": [
    {
     "output_type": "execute_result",
     "data": {
      "text/plain": "(737742, 6)"
     },
     "metadata": {},
     "execution_count": 13
    }
   ],
   "source": [
    "validation.shape"
   ]
  },
  {
   "cell_type": "markdown",
   "metadata": {},
   "source": [
    "### Dataframe to Sparce Matrix <a id=\"2.2\"></a>"
   ]
  },
  {
   "cell_type": "code",
   "execution_count": 14,
   "metadata": {},
   "outputs": [],
   "source": [
    "msno = train.msno.unique()\n",
    "song_id = train.song_id.unique()"
   ]
  },
  {
   "cell_type": "code",
   "execution_count": 15,
   "metadata": {},
   "outputs": [
    {
     "output_type": "execute_result",
     "data": {
      "text/plain": "30640"
     },
     "metadata": {},
     "execution_count": 15
    }
   ],
   "source": [
    "len(msno)"
   ]
  },
  {
   "cell_type": "code",
   "execution_count": 16,
   "metadata": {},
   "outputs": [
    {
     "output_type": "execute_result",
     "data": {
      "text/plain": "342679"
     },
     "metadata": {},
     "execution_count": 16
    }
   ],
   "source": [
    "len(song_id)"
   ]
  },
  {
   "cell_type": "code",
   "execution_count": 17,
   "metadata": {},
   "outputs": [],
   "source": [
    "msno2idx = {m:idx for idx, m in enumerate(msno)}\n",
    "song2idx = {s:idx for idx, s in enumerate(song_id)}"
   ]
  },
  {
   "cell_type": "code",
   "execution_count": 18,
   "metadata": {},
   "outputs": [
    {
     "output_type": "execute_result",
     "data": {
      "text/plain": "array([0, 1, 1, 0, 1, 0, 2, 2, 2, 3])"
     },
     "metadata": {},
     "execution_count": 18
    }
   ],
   "source": [
    "users = train.msno.apply(lambda x: msno2idx[x])\n",
    "users = np.array(users)\n",
    "users[:10]"
   ]
  },
  {
   "cell_type": "code",
   "execution_count": 19,
   "metadata": {},
   "outputs": [
    {
     "output_type": "execute_result",
     "data": {
      "text/plain": "array([0, 1, 2, 3, 4, 5, 6, 7, 8, 9])"
     },
     "metadata": {},
     "execution_count": 19
    }
   ],
   "source": [
    "items = train.song_id.apply(lambda x: song2idx[x])\n",
    "items = np.array(items)\n",
    "items[:10]"
   ]
  },
  {
   "cell_type": "code",
   "execution_count": 20,
   "metadata": {},
   "outputs": [
    {
     "output_type": "execute_result",
     "data": {
      "text/plain": "array([1, 1, 1, 1, 1, 1, 1, 1, 1, 0])"
     },
     "metadata": {},
     "execution_count": 20
    }
   ],
   "source": [
    "data = train.target\n",
    "data = np.array(data)\n",
    "data[:10]"
   ]
  },
  {
   "cell_type": "code",
   "execution_count": 21,
   "metadata": {},
   "outputs": [
    {
     "output_type": "execute_result",
     "data": {
      "text/plain": "                                           msno  \\\n0  FGtllVqz18RPiwJj/edr2gV78zirAiY/9SmYvia+kCg=   \n1  Xumu+NIjS6QYVxDS4/t3SawvJ7viT9hPKXmf0RtLNx8=   \n2  Xumu+NIjS6QYVxDS4/t3SawvJ7viT9hPKXmf0RtLNx8=   \n3  FGtllVqz18RPiwJj/edr2gV78zirAiY/9SmYvia+kCg=   \n4  Xumu+NIjS6QYVxDS4/t3SawvJ7viT9hPKXmf0RtLNx8=   \n5  FGtllVqz18RPiwJj/edr2gV78zirAiY/9SmYvia+kCg=   \n6  uHqAtShXTRXju5GE8ri3ITsVFepPf8jUoCF7ffNOuqE=   \n7  uHqAtShXTRXju5GE8ri3ITsVFepPf8jUoCF7ffNOuqE=   \n8  uHqAtShXTRXju5GE8ri3ITsVFepPf8jUoCF7ffNOuqE=   \n9  TJU0Gfvy7FB+r89bWovPKXTjuApTCiv3xg/tt5shR78=   \n\n                                        song_id source_system_tab  \\\n0  BBzumQNXUHKdEBOB7mAJuzok+IJA1c2Ryg/yzTF6tik=           explore   \n1  bhp/MpSNoqoxOIB+/l8WPqu6jldth4DIpCm3ayXnJqM=        my library   \n2  JNWfrrC7zNN7BdMpsISKa4Mw+xVJYNnxXh3/Epw7QgY=        my library   \n3  3Hg5kugV1S0wzEVLAEfqjIV5UHzb7bCrdBRQlGygLvU=           explore   \n4  VkILU0H1h3NMmk9MQrXouNudGk5n8Ls5cqRRuBxeTh4=        my library   \n5  bPIvRTzfHxH5LgHrStll+tYwSQNVV8PySgA3M1PfTgc=           explore   \n6  /bU6IRSK+YNlNbaTkxo7bhsb2EDLPrnksdX3ggcZNhI=        my library   \n7  EbI7xoNxI+3QSsiHxL13zBdgHIJOwa3srHd7cDcnJ0g=        my library   \n8  t0aT90DlS1TGncgnKoL0SvfAWEr3Dl72QBVcokmKfLc=        my library   \n9  u6/Pb7X4u7KU4gXrBgGqt8RlRrNNFLn03tLAHyxRxwA=        my library   \n\n    source_screen_name          source_type  target  \n0              Explore      online-playlist       1  \n1  Local playlist more       local-playlist       1  \n2  Local playlist more       local-playlist       1  \n3              Explore      online-playlist       1  \n4  Local playlist more       local-playlist       1  \n5              Explore      online-playlist       1  \n6  Local playlist more        local-library       1  \n7  Local playlist more        local-library       1  \n8  Local playlist more        local-library       1  \n9                  NaN  top-hits-for-artist       0  ",
      "text/html": "<div>\n<style scoped>\n    .dataframe tbody tr th:only-of-type {\n        vertical-align: middle;\n    }\n\n    .dataframe tbody tr th {\n        vertical-align: top;\n    }\n\n    .dataframe thead th {\n        text-align: right;\n    }\n</style>\n<table border=\"1\" class=\"dataframe\">\n  <thead>\n    <tr style=\"text-align: right;\">\n      <th></th>\n      <th>msno</th>\n      <th>song_id</th>\n      <th>source_system_tab</th>\n      <th>source_screen_name</th>\n      <th>source_type</th>\n      <th>target</th>\n    </tr>\n  </thead>\n  <tbody>\n    <tr>\n      <th>0</th>\n      <td>FGtllVqz18RPiwJj/edr2gV78zirAiY/9SmYvia+kCg=</td>\n      <td>BBzumQNXUHKdEBOB7mAJuzok+IJA1c2Ryg/yzTF6tik=</td>\n      <td>explore</td>\n      <td>Explore</td>\n      <td>online-playlist</td>\n      <td>1</td>\n    </tr>\n    <tr>\n      <th>1</th>\n      <td>Xumu+NIjS6QYVxDS4/t3SawvJ7viT9hPKXmf0RtLNx8=</td>\n      <td>bhp/MpSNoqoxOIB+/l8WPqu6jldth4DIpCm3ayXnJqM=</td>\n      <td>my library</td>\n      <td>Local playlist more</td>\n      <td>local-playlist</td>\n      <td>1</td>\n    </tr>\n    <tr>\n      <th>2</th>\n      <td>Xumu+NIjS6QYVxDS4/t3SawvJ7viT9hPKXmf0RtLNx8=</td>\n      <td>JNWfrrC7zNN7BdMpsISKa4Mw+xVJYNnxXh3/Epw7QgY=</td>\n      <td>my library</td>\n      <td>Local playlist more</td>\n      <td>local-playlist</td>\n      <td>1</td>\n    </tr>\n    <tr>\n      <th>3</th>\n      <td>FGtllVqz18RPiwJj/edr2gV78zirAiY/9SmYvia+kCg=</td>\n      <td>3Hg5kugV1S0wzEVLAEfqjIV5UHzb7bCrdBRQlGygLvU=</td>\n      <td>explore</td>\n      <td>Explore</td>\n      <td>online-playlist</td>\n      <td>1</td>\n    </tr>\n    <tr>\n      <th>4</th>\n      <td>Xumu+NIjS6QYVxDS4/t3SawvJ7viT9hPKXmf0RtLNx8=</td>\n      <td>VkILU0H1h3NMmk9MQrXouNudGk5n8Ls5cqRRuBxeTh4=</td>\n      <td>my library</td>\n      <td>Local playlist more</td>\n      <td>local-playlist</td>\n      <td>1</td>\n    </tr>\n    <tr>\n      <th>5</th>\n      <td>FGtllVqz18RPiwJj/edr2gV78zirAiY/9SmYvia+kCg=</td>\n      <td>bPIvRTzfHxH5LgHrStll+tYwSQNVV8PySgA3M1PfTgc=</td>\n      <td>explore</td>\n      <td>Explore</td>\n      <td>online-playlist</td>\n      <td>1</td>\n    </tr>\n    <tr>\n      <th>6</th>\n      <td>uHqAtShXTRXju5GE8ri3ITsVFepPf8jUoCF7ffNOuqE=</td>\n      <td>/bU6IRSK+YNlNbaTkxo7bhsb2EDLPrnksdX3ggcZNhI=</td>\n      <td>my library</td>\n      <td>Local playlist more</td>\n      <td>local-library</td>\n      <td>1</td>\n    </tr>\n    <tr>\n      <th>7</th>\n      <td>uHqAtShXTRXju5GE8ri3ITsVFepPf8jUoCF7ffNOuqE=</td>\n      <td>EbI7xoNxI+3QSsiHxL13zBdgHIJOwa3srHd7cDcnJ0g=</td>\n      <td>my library</td>\n      <td>Local playlist more</td>\n      <td>local-library</td>\n      <td>1</td>\n    </tr>\n    <tr>\n      <th>8</th>\n      <td>uHqAtShXTRXju5GE8ri3ITsVFepPf8jUoCF7ffNOuqE=</td>\n      <td>t0aT90DlS1TGncgnKoL0SvfAWEr3Dl72QBVcokmKfLc=</td>\n      <td>my library</td>\n      <td>Local playlist more</td>\n      <td>local-library</td>\n      <td>1</td>\n    </tr>\n    <tr>\n      <th>9</th>\n      <td>TJU0Gfvy7FB+r89bWovPKXTjuApTCiv3xg/tt5shR78=</td>\n      <td>u6/Pb7X4u7KU4gXrBgGqt8RlRrNNFLn03tLAHyxRxwA=</td>\n      <td>my library</td>\n      <td>NaN</td>\n      <td>top-hits-for-artist</td>\n      <td>0</td>\n    </tr>\n  </tbody>\n</table>\n</div>"
     },
     "metadata": {},
     "execution_count": 21
    }
   ],
   "source": [
    "train.head(10)"
   ]
  },
  {
   "cell_type": "code",
   "execution_count": 22,
   "metadata": {},
   "outputs": [],
   "source": [
    "train_csr = csr_matrix((data, (users, items)))"
   ]
  },
  {
   "cell_type": "code",
   "execution_count": 23,
   "metadata": {},
   "outputs": [
    {
     "output_type": "execute_result",
     "data": {
      "text/plain": "<30640x342679 sparse matrix of type '<class 'numpy.longlong'>'\n\twith 6639676 stored elements in Compressed Sparse Row format>"
     },
     "metadata": {},
     "execution_count": 23
    }
   ],
   "source": [
    "train_csr"
   ]
  },
  {
   "cell_type": "markdown",
   "metadata": {},
   "source": [
    "### Matrix Factorization: Truncated SVD <a id=\"2.3\"></a>"
   ]
  },
  {
   "cell_type": "code",
   "execution_count": 24,
   "metadata": {},
   "outputs": [],
   "source": [
    "svd = TruncatedSVD(n_components=100, n_iter=5, random_state=2020)\n",
    "U = svd.fit_transform(train_csr)\n",
    "S = np.diag(svd.singular_values_)\n",
    "Vt = svd.components_.T"
   ]
  },
  {
   "cell_type": "code",
   "execution_count": 25,
   "metadata": {},
   "outputs": [
    {
     "output_type": "execute_result",
     "data": {
      "text/plain": "(30640, 100)"
     },
     "metadata": {},
     "execution_count": 25
    }
   ],
   "source": [
    "U.shape"
   ]
  },
  {
   "cell_type": "code",
   "execution_count": 26,
   "metadata": {},
   "outputs": [
    {
     "output_type": "execute_result",
     "data": {
      "text/plain": "(100, 100)"
     },
     "metadata": {},
     "execution_count": 26
    }
   ],
   "source": [
    "S.shape"
   ]
  },
  {
   "cell_type": "code",
   "execution_count": 27,
   "metadata": {},
   "outputs": [
    {
     "output_type": "execute_result",
     "data": {
      "text/plain": "(342679, 100)"
     },
     "metadata": {},
     "execution_count": 27
    }
   ],
   "source": [
    "Vt.shape"
   ]
  },
  {
   "cell_type": "markdown",
   "metadata": {},
   "source": [
    "### Prediction(Recommendation) <a id=\"2.4\"></a>"
   ]
  },
  {
   "cell_type": "code",
   "execution_count": 28,
   "metadata": {},
   "outputs": [],
   "source": [
    "def item_to_idx(item, item_dict):\n",
    "    if item in item_dict:\n",
    "        return item_dict[item]\n",
    "    else:\n",
    "        return -1"
   ]
  },
  {
   "cell_type": "code",
   "execution_count": 29,
   "metadata": {},
   "outputs": [],
   "source": [
    "users = np.array(validation.msno.apply(lambda x: item_to_idx(x, msno2idx)))"
   ]
  },
  {
   "cell_type": "code",
   "execution_count": 30,
   "metadata": {},
   "outputs": [],
   "source": [
    "items = np.array(validation.song_id.apply(lambda x: item_to_idx(x, song2idx)))"
   ]
  },
  {
   "cell_type": "code",
   "execution_count": 31,
   "metadata": {},
   "outputs": [],
   "source": [
    "real = np.array(validation.target)"
   ]
  },
  {
   "cell_type": "code",
   "execution_count": 32,
   "metadata": {},
   "outputs": [
    {
     "output_type": "execute_result",
     "data": {
      "text/plain": "                                           msno  \\\n0  QTwsBNF1Ie0JhgQ5i27OOyen2u+0K3j9cR7l0ZZeAbY=   \n\n                                        song_id source_system_tab  \\\n0  iilqYfHUSf7ETyPvZwZoWBojhFcuOWynMeQoPBnj0/k=          discover   \n\n     source_screen_name      source_type  target  \n0  Online playlist more  online-playlist       1  ",
      "text/html": "<div>\n<style scoped>\n    .dataframe tbody tr th:only-of-type {\n        vertical-align: middle;\n    }\n\n    .dataframe tbody tr th {\n        vertical-align: top;\n    }\n\n    .dataframe thead th {\n        text-align: right;\n    }\n</style>\n<table border=\"1\" class=\"dataframe\">\n  <thead>\n    <tr style=\"text-align: right;\">\n      <th></th>\n      <th>msno</th>\n      <th>song_id</th>\n      <th>source_system_tab</th>\n      <th>source_screen_name</th>\n      <th>source_type</th>\n      <th>target</th>\n    </tr>\n  </thead>\n  <tbody>\n    <tr>\n      <th>0</th>\n      <td>QTwsBNF1Ie0JhgQ5i27OOyen2u+0K3j9cR7l0ZZeAbY=</td>\n      <td>iilqYfHUSf7ETyPvZwZoWBojhFcuOWynMeQoPBnj0/k=</td>\n      <td>discover</td>\n      <td>Online playlist more</td>\n      <td>online-playlist</td>\n      <td>1</td>\n    </tr>\n  </tbody>\n</table>\n</div>"
     },
     "metadata": {},
     "execution_count": 32
    }
   ],
   "source": [
    "validation.head(1)"
   ]
  },
  {
   "cell_type": "code",
   "execution_count": 33,
   "metadata": {},
   "outputs": [],
   "source": [
    "assert users[0] == msno2idx['QTwsBNF1Ie0JhgQ5i27OOyen2u+0K3j9cR7l0ZZeAbY=']"
   ]
  },
  {
   "cell_type": "code",
   "execution_count": 34,
   "metadata": {},
   "outputs": [],
   "source": [
    "assert items[0] == song2idx['iilqYfHUSf7ETyPvZwZoWBojhFcuOWynMeQoPBnj0/k=']"
   ]
  },
  {
   "cell_type": "code",
   "execution_count": 35,
   "metadata": {},
   "outputs": [],
   "source": [
    "assert real[0] == 1"
   ]
  },
  {
   "cell_type": "code",
   "execution_count": 36,
   "metadata": {},
   "outputs": [],
   "source": [
    "def predict(user, item, threshold):\n",
    "    rating = user @ item\n",
    "    return rating, int(rating >= threshold)"
   ]
  },
  {
   "cell_type": "code",
   "execution_count": 37,
   "metadata": {},
   "outputs": [],
   "source": [
    "def calculate_accuracy(prediction, real):\n",
    "    return np.mean(np.equal(prediction, real))"
   ]
  },
  {
   "cell_type": "code",
   "execution_count": 38,
   "metadata": {},
   "outputs": [
    {
     "output_type": "stream",
     "name": "stderr",
     "text": "100%|██████████| 11/11 [00:29<00:00,  2.67s/it]\n"
    }
   ],
   "source": [
    "scores = dict()\n",
    "thresholds = np.linspace(0, 1, num=11)\n",
    "for threshold in tqdm(thresholds):\n",
    "    prediction = list()\n",
    "    for user, item in zip(users, items):\n",
    "        if user == -1 or item == -1:\n",
    "            p = 0\n",
    "        else:\n",
    "            _, p = predict(U[user], Vt[item], threshold)\n",
    "        prediction.append(p)\n",
    "    prediction = np.array(prediction)\n",
    "\n",
    "    accuracy = calculate_accuracy(prediction, real)\n",
    "    scores[threshold] = accuracy"
   ]
  },
  {
   "cell_type": "code",
   "execution_count": 39,
   "metadata": {},
   "outputs": [
    {
     "output_type": "execute_result",
     "data": {
      "text/plain": "{0.0: 0.5544336638011662,\n 0.1: 0.6238441081028328,\n 0.2: 0.6047642671828363,\n 0.30000000000000004: 0.5845037967202626,\n 0.4: 0.5651121936937303,\n 0.5: 0.5473742853192579,\n 0.6000000000000001: 0.5317753360931057,\n 0.7000000000000001: 0.5188358531844466,\n 0.8: 0.5091576730076368,\n 0.9: 0.5030213814585587,\n 1.0: 0.49974923482735156}"
     },
     "metadata": {},
     "execution_count": 39
    }
   ],
   "source": [
    "scores"
   ]
  },
  {
   "cell_type": "code",
   "execution_count": 40,
   "metadata": {},
   "outputs": [
    {
     "output_type": "display_data",
     "data": {
      "text/plain": "<Figure size 1152x648 with 1 Axes>",
      "image/svg+xml": "<?xml version=\"1.0\" encoding=\"utf-8\" standalone=\"no\"?>\n<!DOCTYPE svg PUBLIC \"-//W3C//DTD SVG 1.1//EN\"\n  \"http://www.w3.org/Graphics/SVG/1.1/DTD/svg11.dtd\">\n<!-- Created with matplotlib (https://matplotlib.org/) -->\n<svg height=\"546.95125pt\" version=\"1.1\" viewBox=\"0 0 947 546.95125\" width=\"947pt\" xmlns=\"http://www.w3.org/2000/svg\" xmlns:xlink=\"http://www.w3.org/1999/xlink\">\n <defs>\n  <style type=\"text/css\">\n*{stroke-linecap:butt;stroke-linejoin:round;}\n  </style>\n </defs>\n <g id=\"figure_1\">\n  <g id=\"patch_1\">\n   <path d=\"M 0 546.95125 \nL 947 546.95125 \nL 947 0 \nL 0 0 \nz\n\" style=\"fill:none;\"/>\n  </g>\n  <g id=\"axes_1\">\n   <g id=\"patch_2\">\n    <path d=\"M 47 511.15125 \nL 939.8 511.15125 \nL 939.8 21.91125 \nL 47 21.91125 \nz\n\" style=\"fill:#ffffff;\"/>\n   </g>\n   <g id=\"matplotlib.axis_1\">\n    <g id=\"xtick_1\">\n     <g id=\"line2d_1\">\n      <defs>\n       <path d=\"M 0 0 \nL 0 3.5 \n\" id=\"m555d5eec1e\" style=\"stroke:#000000;stroke-width:0.8;\"/>\n      </defs>\n      <g>\n       <use style=\"stroke:#000000;stroke-width:0.8;\" x=\"87.581818\" xlink:href=\"#m555d5eec1e\" y=\"511.15125\"/>\n      </g>\n     </g>\n     <g id=\"text_1\">\n      <!-- 0.0 -->\n      <defs>\n       <path d=\"M 24.90625 70.5 \nQ 34.90625 70.5 40.296875 61.953125 \nQ 45.703125 53.40625 45.703125 35 \nQ 45.703125 25.703125 44.296875 19.09375 \nQ 42.90625 12.5 40.25 8.296875 \nQ 37.59375 4.09375 33.6875 2.1875 \nQ 29.796875 0.296875 24.90625 0.296875 \nQ 19.796875 0.296875 15.9375 2.1875 \nQ 12.09375 4.09375 9.5 8.296875 \nQ 6.90625 12.5 5.59375 19.09375 \nQ 4.296875 25.703125 4.296875 35 \nQ 4.296875 53.40625 9.546875 61.953125 \nQ 14.796875 70.5 24.90625 70.5 \nz\nM 24.796875 6.796875 \nQ 30.90625 6.796875 34.34375 13.4375 \nQ 37.796875 20.09375 37.296875 34.796875 \nQ 37.09375 38.203125 36.890625 41.25 \nQ 36.703125 44.296875 36.40625 46.90625 \nL 15.09375 14 \nQ 16.5 10.203125 18.796875 8.5 \nQ 21.09375 6.796875 24.796875 6.796875 \nz\nM 24.796875 63.703125 \nQ 18.796875 63.703125 15.5 56.59375 \nQ 12.203125 49.5 12.59375 34.703125 \nQ 12.703125 31.203125 12.796875 28.390625 \nQ 12.90625 25.59375 13.203125 23 \nL 34.40625 55.703125 \nQ 31.703125 63.703125 24.796875 63.703125 \nz\n\" id=\"D2Coding-48\"/>\n       <path d=\"M 16.703125 10.796875 \nQ 16.703125 14 19 16.296875 \nQ 21.296875 18.59375 24.5 18.59375 \nQ 27.703125 18.59375 30 16.296875 \nQ 32.296875 14 32.296875 10.796875 \nQ 32.296875 7.59375 30 5.296875 \nQ 27.703125 3 24.5 3 \nQ 21.296875 3 19 5.296875 \nQ 16.703125 7.59375 16.703125 10.796875 \nz\n\" id=\"D2Coding-46\"/>\n      </defs>\n      <g transform=\"translate(80.081818 525.410625)scale(0.1 -0.1)\">\n       <use xlink:href=\"#D2Coding-48\"/>\n       <use x=\"49.999985\" xlink:href=\"#D2Coding-46\"/>\n       <use x=\"99.999969\" xlink:href=\"#D2Coding-48\"/>\n      </g>\n     </g>\n    </g>\n    <g id=\"xtick_2\">\n     <g id=\"line2d_2\">\n      <g>\n       <use style=\"stroke:#000000;stroke-width:0.8;\" x=\"249.909091\" xlink:href=\"#m555d5eec1e\" y=\"511.15125\"/>\n      </g>\n     </g>\n     <g id=\"text_2\">\n      <!-- 0.2 -->\n      <defs>\n       <path d=\"M 6.5 57.796875 \nL 6.5 65.296875 \nQ 9.796875 67.59375 14.25 69.25 \nQ 18.703125 70.90625 23.796875 70.90625 \nQ 32.90625 70.90625 38.5 66.453125 \nQ 44.09375 62 44.09375 53 \nQ 44.09375 49.203125 43.140625 46.046875 \nQ 42.203125 42.90625 40.640625 40 \nQ 39.09375 37.09375 37 34.296875 \nQ 34.90625 31.5 32.5 28.5 \nL 16.59375 8.703125 \nL 44.796875 8.703125 \nL 44.796875 1.59375 \nL 6.40625 1.59375 \nL 6.40625 8.703125 \nL 25.09375 31.796875 \nQ 27.5 34.796875 29.34375 37.296875 \nQ 31.203125 39.796875 32.546875 42.25 \nQ 33.90625 44.703125 34.59375 47.34375 \nQ 35.296875 50 35.296875 53.203125 \nQ 35.296875 58.59375 32.140625 61.140625 \nQ 29 63.703125 23.796875 63.703125 \nQ 20.40625 63.703125 16.453125 62.34375 \nQ 12.5 61 7.703125 57.796875 \nz\n\" id=\"D2Coding-50\"/>\n      </defs>\n      <g transform=\"translate(242.409091 525.410625)scale(0.1 -0.1)\">\n       <use xlink:href=\"#D2Coding-48\"/>\n       <use x=\"49.999985\" xlink:href=\"#D2Coding-46\"/>\n       <use x=\"99.999969\" xlink:href=\"#D2Coding-50\"/>\n      </g>\n     </g>\n    </g>\n    <g id=\"xtick_3\">\n     <g id=\"line2d_3\">\n      <g>\n       <use style=\"stroke:#000000;stroke-width:0.8;\" x=\"412.236364\" xlink:href=\"#m555d5eec1e\" y=\"511.15125\"/>\n      </g>\n     </g>\n     <g id=\"text_3\">\n      <!-- 0.4 -->\n      <defs>\n       <path d=\"M 29.40625 69.40625 \nL 39.296875 69.40625 \nL 39.296875 24.90625 \nL 48.40625 24.90625 \nL 48.40625 18 \nL 39.296875 18 \nL 39.296875 1.59375 \nL 30.796875 1.59375 \nL 30.796875 18 \nL 3.203125 18 \nL 3.203125 25.703125 \nz\nM 31.09375 59.703125 \nL 30.203125 57.203125 \nL 11.203125 24.703125 \nL 31.09375 24.703125 \nz\n\" id=\"D2Coding-52\"/>\n      </defs>\n      <g transform=\"translate(404.736364 525.410625)scale(0.1 -0.1)\">\n       <use xlink:href=\"#D2Coding-48\"/>\n       <use x=\"49.999985\" xlink:href=\"#D2Coding-46\"/>\n       <use x=\"99.999969\" xlink:href=\"#D2Coding-52\"/>\n      </g>\n     </g>\n    </g>\n    <g id=\"xtick_4\">\n     <g id=\"line2d_4\">\n      <g>\n       <use style=\"stroke:#000000;stroke-width:0.8;\" x=\"574.563636\" xlink:href=\"#m555d5eec1e\" y=\"511.15125\"/>\n      </g>\n     </g>\n     <g id=\"text_4\">\n      <!-- 0.6 -->\n      <defs>\n       <path d=\"M 40.90625 60.40625 \nQ 38.703125 61.796875 35.390625 62.6875 \nQ 32.09375 63.59375 29.203125 63.59375 \nQ 24.796875 63.59375 21.890625 61.1875 \nQ 19 58.796875 17.25 55.140625 \nQ 15.5 51.5 14.640625 47.203125 \nQ 13.796875 42.90625 13.5 39.09375 \nQ 15.59375 42.09375 19.046875 44.09375 \nQ 22.5 46.09375 26.796875 46.09375 \nQ 31.59375 46.09375 35.09375 44.390625 \nQ 38.59375 42.703125 40.9375 39.703125 \nQ 43.296875 36.703125 44.4375 32.640625 \nQ 45.59375 28.59375 45.59375 23.90625 \nQ 45.59375 18.796875 44.34375 14.5 \nQ 43.09375 10.203125 40.546875 7.046875 \nQ 38 3.90625 34.25 2.15625 \nQ 30.5 0.40625 25.5 0.40625 \nQ 18.796875 0.40625 14.796875 3.453125 \nQ 10.796875 6.5 8.640625 11.140625 \nQ 6.5 15.796875 5.796875 21.390625 \nQ 5.09375 27 5.09375 32.203125 \nQ 5.09375 36.09375 5.5 40.5 \nQ 5.90625 44.90625 6.953125 49.15625 \nQ 8 53.40625 9.703125 57.25 \nQ 11.40625 61.09375 14.046875 64.046875 \nQ 16.703125 67 20.390625 68.75 \nQ 24.09375 70.5 29 70.5 \nQ 32.703125 70.5 35.890625 69.796875 \nQ 39.09375 69.09375 42.09375 67.796875 \nL 42.09375 60.40625 \nz\nM 14.09375 23.203125 \nQ 14.09375 20.5 14.75 17.640625 \nQ 15.40625 14.796875 16.75 12.4375 \nQ 18.09375 10.09375 20.25 8.640625 \nQ 22.40625 7.203125 25.5 7.203125 \nQ 28.59375 7.203125 30.84375 8.703125 \nQ 33.09375 10.203125 34.5 12.546875 \nQ 35.90625 14.90625 36.546875 17.796875 \nQ 37.203125 20.703125 37.203125 23.40625 \nQ 37.203125 26.09375 36.59375 28.9375 \nQ 36 31.796875 34.703125 34.046875 \nQ 33.40625 36.296875 31.25 37.75 \nQ 29.09375 39.203125 26 39.203125 \nQ 22.796875 39.203125 20.59375 37.75 \nQ 18.40625 36.296875 16.953125 34.046875 \nQ 15.5 31.796875 14.84375 28.890625 \nQ 14.203125 26 14.09375 23.203125 \nz\n\" id=\"D2Coding-54\"/>\n      </defs>\n      <g transform=\"translate(567.063636 525.410625)scale(0.1 -0.1)\">\n       <use xlink:href=\"#D2Coding-48\"/>\n       <use x=\"49.999985\" xlink:href=\"#D2Coding-46\"/>\n       <use x=\"99.999969\" xlink:href=\"#D2Coding-54\"/>\n      </g>\n     </g>\n    </g>\n    <g id=\"xtick_5\">\n     <g id=\"line2d_5\">\n      <g>\n       <use style=\"stroke:#000000;stroke-width:0.8;\" x=\"736.890909\" xlink:href=\"#m555d5eec1e\" y=\"511.15125\"/>\n      </g>\n     </g>\n     <g id=\"text_5\">\n      <!-- 0.8 -->\n      <defs>\n       <path d=\"M 25 7.296875 \nQ 30.40625 7.296875 33.796875 10.6875 \nQ 37.203125 14.09375 37.203125 20.203125 \nQ 37.203125 23.203125 36.25 25.703125 \nQ 35.296875 28.203125 33.640625 30 \nQ 32 31.796875 29.796875 32.796875 \nQ 27.59375 33.796875 25 33.796875 \nQ 22.59375 33.796875 20.390625 32.796875 \nQ 18.203125 31.796875 16.546875 30 \nQ 14.90625 28.203125 13.90625 25.703125 \nQ 12.90625 23.203125 12.90625 20.203125 \nQ 12.90625 17.203125 13.84375 14.796875 \nQ 14.796875 12.40625 16.4375 10.75 \nQ 18.09375 9.09375 20.296875 8.1875 \nQ 22.5 7.296875 25 7.296875 \nz\nM 25 40.796875 \nQ 29.203125 40.796875 32.390625 43.796875 \nQ 35.59375 46.796875 35.59375 52.5 \nQ 35.59375 57.90625 32.59375 61.09375 \nQ 29.59375 64.296875 25 64.296875 \nQ 20.703125 64.296875 17.703125 61.09375 \nQ 14.703125 57.90625 14.703125 52.5 \nQ 14.703125 49.59375 15.546875 47.4375 \nQ 16.40625 45.296875 17.84375 43.796875 \nQ 19.296875 42.296875 21.140625 41.546875 \nQ 23 40.796875 25 40.796875 \nz\nM 25 0.40625 \nQ 15.5 0.40625 9.796875 5.15625 \nQ 4.09375 9.90625 4.09375 19.09375 \nQ 4.09375 25.40625 7.1875 30.296875 \nQ 10.296875 35.203125 16.59375 37.203125 \nQ 11.796875 39 8.890625 42.953125 \nQ 6 46.90625 6 52.40625 \nQ 6 60.796875 10.890625 65.640625 \nQ 15.796875 70.5 24.90625 70.5 \nQ 34 70.5 39.140625 65.703125 \nQ 44.296875 60.90625 44.296875 52.40625 \nQ 44.296875 46.90625 41.25 42.953125 \nQ 38.203125 39 33.59375 37.203125 \nQ 39.59375 35.203125 42.796875 30.296875 \nQ 46 25.40625 46 19.09375 \nQ 46 9.90625 40.25 5.15625 \nQ 34.5 0.40625 25 0.40625 \nz\n\" id=\"D2Coding-56\"/>\n      </defs>\n      <g transform=\"translate(729.390909 525.410625)scale(0.1 -0.1)\">\n       <use xlink:href=\"#D2Coding-48\"/>\n       <use x=\"49.999985\" xlink:href=\"#D2Coding-46\"/>\n       <use x=\"99.999969\" xlink:href=\"#D2Coding-56\"/>\n      </g>\n     </g>\n    </g>\n    <g id=\"xtick_6\">\n     <g id=\"line2d_6\">\n      <g>\n       <use style=\"stroke:#000000;stroke-width:0.8;\" x=\"899.218182\" xlink:href=\"#m555d5eec1e\" y=\"511.15125\"/>\n      </g>\n     </g>\n     <g id=\"text_6\">\n      <!-- 1.0 -->\n      <defs>\n       <path d=\"M 11.296875 1.59375 \nL 11.296875 8.90625 \nL 24.796875 8.90625 \nL 24.796875 60.703125 \nL 24.703125 60.703125 \nQ 23.40625 59.59375 21.546875 58.390625 \nQ 19.703125 57.203125 17.640625 56.09375 \nQ 15.59375 55 13.5 54 \nQ 11.40625 53 9.703125 52.296875 \nL 8.5 52.296875 \nL 8.5 59.703125 \nQ 13.203125 61.703125 17.640625 64.296875 \nQ 22.09375 66.90625 24.59375 69.40625 \nL 33.203125 69.40625 \nL 33.203125 8.90625 \nL 46 8.90625 \nL 46 1.59375 \nz\n\" id=\"D2Coding-49\"/>\n      </defs>\n      <g transform=\"translate(891.718182 525.410625)scale(0.1 -0.1)\">\n       <use xlink:href=\"#D2Coding-49\"/>\n       <use x=\"49.999985\" xlink:href=\"#D2Coding-46\"/>\n       <use x=\"99.999969\" xlink:href=\"#D2Coding-48\"/>\n      </g>\n     </g>\n    </g>\n    <g id=\"text_7\">\n     <!-- Threshold -->\n     <defs>\n      <path d=\"M 29.296875 1.59375 \nL 20.703125 1.59375 \nL 20.703125 62.09375 \nL 2.203125 62.09375 \nL 2.203125 69.40625 \nL 47.796875 69.40625 \nL 47.796875 62.09375 \nL 29.296875 62.09375 \nz\n\" id=\"D2Coding-84\"/>\n      <path d=\"M 43.796875 1.59375 \nL 35.5 1.59375 \nL 35.5 32.40625 \nQ 35.5 40.5 33.5 43.703125 \nQ 31.5 46.90625 26.296875 46.90625 \nQ 23.90625 46.90625 21.75 45.65625 \nQ 19.59375 44.40625 18.046875 42.203125 \nQ 16.5 40 15.59375 36.890625 \nQ 14.703125 33.796875 14.703125 30.09375 \nL 14.703125 1.59375 \nL 6.40625 1.59375 \nL 6.40625 72.59375 \nL 14.703125 72.59375 \nL 14.703125 46 \nQ 16.40625 49.203125 19.953125 51.390625 \nQ 23.5 53.59375 28 53.59375 \nQ 32.90625 53.59375 35.953125 52 \nQ 39 50.40625 40.75 47.546875 \nQ 42.5 44.703125 43.140625 40.796875 \nQ 43.796875 36.90625 43.796875 32.203125 \nz\n\" id=\"D2Coding-104\"/>\n      <path d=\"M 17.90625 52.59375 \nL 18.5 42.5 \nQ 19.09375 44.296875 20.4375 46.296875 \nQ 21.796875 48.296875 23.84375 49.9375 \nQ 25.90625 51.59375 28.546875 52.640625 \nQ 31.203125 53.703125 34.40625 53.703125 \nQ 37.703125 53.703125 40.953125 52.890625 \nQ 44.203125 52.09375 46.796875 50.40625 \nL 46.796875 42.203125 \nL 45.59375 42.203125 \nQ 43.296875 43.703125 40.09375 44.75 \nQ 36.90625 45.796875 33.703125 45.796875 \nQ 30.09375 45.796875 27.34375 44.25 \nQ 24.59375 42.703125 22.640625 40.046875 \nQ 20.703125 37.40625 19.703125 34 \nQ 18.703125 30.59375 18.703125 26.90625 \nL 18.703125 1.59375 \nL 10.296875 1.59375 \nL 10.296875 52.59375 \nz\n\" id=\"D2Coding-114\"/>\n      <path d=\"M 13.09375 33.59375 \nL 36.5 33.59375 \nL 36.5 33.90625 \nQ 35.796875 47 25.796875 47 \nQ 15.09375 47 13.09375 33.703125 \nz\nM 26.09375 53.703125 \nQ 31 53.703125 34.640625 52 \nQ 38.296875 50.296875 40.59375 47.25 \nQ 42.90625 44.203125 44.046875 40 \nQ 45.203125 35.796875 45.203125 30.90625 \nL 45.203125 27.203125 \nL 13 27.203125 \nL 13 26.703125 \nQ 13 22.703125 13.703125 19.25 \nQ 14.40625 15.796875 16.046875 13.1875 \nQ 17.703125 10.59375 20.390625 9.09375 \nQ 23.09375 7.59375 27.203125 7.59375 \nQ 30.90625 7.59375 34.75 8.84375 \nQ 38.59375 10.09375 42 12.703125 \nL 43.203125 12.703125 \nL 43.203125 4.796875 \nQ 39.796875 2.5 36.046875 1.390625 \nQ 32.296875 0.296875 26.90625 0.296875 \nQ 20.90625 0.296875 16.59375 2.25 \nQ 12.296875 4.203125 9.546875 7.796875 \nQ 6.796875 11.40625 5.5 16.34375 \nQ 4.203125 21.296875 4.203125 27.296875 \nQ 4.203125 33.40625 5.5 38.296875 \nQ 6.796875 43.203125 9.5 46.59375 \nQ 12.203125 50 16.296875 51.84375 \nQ 20.40625 53.703125 26.09375 53.703125 \nz\n\" id=\"D2Coding-101\"/>\n      <path d=\"M 7.09375 13 \nQ 11.40625 10.203125 15.75 8.84375 \nQ 20.09375 7.5 23.40625 7.5 \nQ 28.5 7.5 31.84375 9.25 \nQ 35.203125 11 35.203125 14.90625 \nQ 35.203125 17.09375 31.953125 19.59375 \nQ 28.703125 22.09375 21 25.40625 \nQ 14.40625 28.296875 10.953125 31.75 \nQ 7.5 35.203125 7.5 40.5 \nQ 7.5 46.90625 12.09375 50.40625 \nQ 16.703125 53.90625 25.203125 53.90625 \nQ 29 53.90625 32.890625 53.046875 \nQ 36.796875 52.203125 40.296875 50.296875 \nL 40.296875 42.90625 \nL 39.09375 42.90625 \nQ 37.796875 43.796875 36.046875 44.546875 \nQ 34.296875 45.296875 32.34375 45.84375 \nQ 30.40625 46.40625 28.453125 46.703125 \nQ 26.5 47 24.796875 47 \nQ 20.90625 47 18.546875 45.453125 \nQ 16.203125 43.90625 16.203125 40.90625 \nQ 16.203125 39.203125 16.953125 37.890625 \nQ 17.703125 36.59375 19.34375 35.390625 \nQ 21 34.203125 23.59375 33 \nQ 26.203125 31.796875 29.796875 30.296875 \nQ 32.40625 29.203125 35 27.84375 \nQ 37.59375 26.5 39.640625 24.703125 \nQ 41.703125 22.90625 42.953125 20.5 \nQ 44.203125 18.09375 44.203125 15 \nQ 44.203125 11 42.5 8.203125 \nQ 40.796875 5.40625 38 3.65625 \nQ 35.203125 1.90625 31.453125 1.09375 \nQ 27.703125 0.296875 23.703125 0.296875 \nQ 19.09375 0.296875 14.890625 1.1875 \nQ 10.703125 2.09375 5.90625 4.90625 \nL 5.90625 13 \nz\n\" id=\"D2Coding-115\"/>\n      <path d=\"M 25 0.296875 \nQ 19 0.296875 15.046875 2.390625 \nQ 11.09375 4.5 8.75 8.09375 \nQ 6.40625 11.703125 5.5 16.546875 \nQ 4.59375 21.40625 4.59375 27 \nQ 4.59375 32.59375 5.546875 37.4375 \nQ 6.5 42.296875 8.84375 45.890625 \nQ 11.203125 49.5 15.09375 51.59375 \nQ 19 53.703125 25 53.703125 \nQ 30.796875 53.703125 34.75 51.59375 \nQ 38.703125 49.5 41.046875 45.890625 \nQ 43.40625 42.296875 44.40625 37.390625 \nQ 45.40625 32.5 45.40625 27 \nQ 45.40625 21.5 44.453125 16.640625 \nQ 43.5 11.796875 41.140625 8.140625 \nQ 38.796875 4.5 34.890625 2.390625 \nQ 31 0.296875 25 0.296875 \nz\nM 25 7.09375 \nQ 31.5 7.09375 34.25 12.34375 \nQ 37 17.59375 37 27 \nQ 37 36.59375 34.25 41.796875 \nQ 31.5 47 25 47 \nQ 18.40625 47 15.703125 41.84375 \nQ 13 36.703125 13 27 \nQ 13 17.59375 15.703125 12.34375 \nQ 18.40625 7.09375 25 7.09375 \nz\n\" id=\"D2Coding-111\"/>\n      <path d=\"M 29.40625 72.59375 \nL 29.40625 10.59375 \nQ 29.40625 9.5 29.84375 9 \nQ 30.296875 8.5 31.59375 8.5 \nL 44.296875 8.5 \nL 44.296875 1.59375 \nL 28.90625 1.59375 \nQ 25 1.59375 23 4 \nQ 21 6.40625 21 9.59375 \nL 21 65.703125 \nL 10 65.703125 \nL 10 72.59375 \nz\n\" id=\"D2Coding-108\"/>\n      <path d=\"M 35.296875 31.796875 \nQ 35.296875 34.59375 34.796875 37.296875 \nQ 34.296875 40 33 42.140625 \nQ 31.703125 44.296875 29.546875 45.59375 \nQ 27.40625 46.90625 24.09375 46.90625 \nQ 19.09375 46.90625 16.046875 42.15625 \nQ 13 37.40625 13 27 \nQ 13 16.5 15.546875 11.890625 \nQ 18.09375 7.296875 23.703125 7.296875 \nQ 26.09375 7.296875 28.1875 8.34375 \nQ 30.296875 9.40625 31.84375 11.34375 \nQ 33.40625 13.296875 34.34375 16 \nQ 35.296875 18.703125 35.296875 22 \nz\nM 22.40625 53.59375 \nQ 26.296875 53.59375 29.84375 51.75 \nQ 33.40625 49.90625 35.203125 46.59375 \nL 35.296875 46.59375 \nL 35.296875 72.59375 \nL 43.59375 72.59375 \nL 43.59375 1.59375 \nL 35.5 1.59375 \nL 35.203125 7.203125 \nL 35.09375 7.203125 \nQ 34.5 5.703125 33.140625 4.390625 \nQ 31.796875 3.09375 30.046875 2.1875 \nQ 28.296875 1.296875 26.296875 0.796875 \nQ 24.296875 0.296875 22.5 0.296875 \nQ 17 0.296875 13.546875 2.59375 \nQ 10.09375 4.90625 8.09375 8.65625 \nQ 6.09375 12.40625 5.34375 17.25 \nQ 4.59375 22.09375 4.59375 27.296875 \nQ 4.59375 31.796875 5.5 36.5 \nQ 6.40625 41.203125 8.453125 45 \nQ 10.5 48.796875 13.890625 51.1875 \nQ 17.296875 53.59375 22.40625 53.59375 \nz\n\" id=\"D2Coding-100\"/>\n     </defs>\n     <g transform=\"translate(470.9 538.210625)scale(0.1 -0.1)\">\n      <use xlink:href=\"#D2Coding-84\"/>\n      <use x=\"49.999985\" xlink:href=\"#D2Coding-104\"/>\n      <use x=\"99.999969\" xlink:href=\"#D2Coding-114\"/>\n      <use x=\"149.999954\" xlink:href=\"#D2Coding-101\"/>\n      <use x=\"199.999939\" xlink:href=\"#D2Coding-115\"/>\n      <use x=\"249.999924\" xlink:href=\"#D2Coding-104\"/>\n      <use x=\"299.999908\" xlink:href=\"#D2Coding-111\"/>\n      <use x=\"349.999893\" xlink:href=\"#D2Coding-108\"/>\n      <use x=\"399.999878\" xlink:href=\"#D2Coding-100\"/>\n     </g>\n    </g>\n   </g>\n   <g id=\"matplotlib.axis_2\">\n    <g id=\"ytick_1\">\n     <g id=\"line2d_7\">\n      <defs>\n       <path d=\"M 0 0 \nL -3.5 0 \n\" id=\"m4088ccfc89\" style=\"stroke:#000000;stroke-width:0.8;\"/>\n      </defs>\n      <g>\n       <use style=\"stroke:#000000;stroke-width:0.8;\" x=\"47\" xlink:href=\"#m4088ccfc89\" y=\"488.01431\"/>\n      </g>\n     </g>\n     <g id=\"text_8\">\n      <!-- 0.50 -->\n      <defs>\n       <path d=\"M 5.703125 11.90625 \nQ 9.703125 9.5 13.953125 8.296875 \nQ 18.203125 7.09375 22.40625 7.296875 \nQ 25.59375 7.40625 28.09375 8.75 \nQ 30.59375 10.09375 32.34375 12.296875 \nQ 34.09375 14.5 35.046875 17.296875 \nQ 36 20.09375 36 23.203125 \nQ 36 30.796875 32.140625 34.1875 \nQ 28.296875 37.59375 21.09375 37.59375 \nQ 18.5 37.59375 15.203125 37.046875 \nQ 11.90625 36.5 8 35.796875 \nL 10.203125 69.40625 \nL 41.296875 69.40625 \nL 41.296875 62.5 \nL 17.5 62.5 \nL 16.203125 43 \nQ 17.5 43.40625 19.703125 43.703125 \nQ 21.90625 44 24 44 \nQ 34 44 39.34375 38.640625 \nQ 44.703125 33.296875 44.703125 24 \nQ 44.703125 19.09375 43.140625 14.796875 \nQ 41.59375 10.5 38.640625 7.34375 \nQ 35.703125 4.203125 31.546875 2.34375 \nQ 27.40625 0.5 22.296875 0.5 \nQ 16.40625 0.5 12.40625 1.546875 \nQ 8.40625 2.59375 4.5 4.703125 \nL 4.5 11.90625 \nz\n\" id=\"D2Coding-53\"/>\n      </defs>\n      <g transform=\"translate(20 491.643998)scale(0.1 -0.1)\">\n       <use xlink:href=\"#D2Coding-48\"/>\n       <use x=\"49.999985\" xlink:href=\"#D2Coding-46\"/>\n       <use x=\"99.999969\" xlink:href=\"#D2Coding-53\"/>\n       <use x=\"149.999954\" xlink:href=\"#D2Coding-48\"/>\n      </g>\n     </g>\n    </g>\n    <g id=\"ytick_2\">\n     <g id=\"line2d_8\">\n      <g>\n       <use style=\"stroke:#000000;stroke-width:0.8;\" x=\"47\" xlink:href=\"#m4088ccfc89\" y=\"416.333084\"/>\n      </g>\n     </g>\n     <g id=\"text_9\">\n      <!-- 0.52 -->\n      <g transform=\"translate(20 419.962771)scale(0.1 -0.1)\">\n       <use xlink:href=\"#D2Coding-48\"/>\n       <use x=\"49.999985\" xlink:href=\"#D2Coding-46\"/>\n       <use x=\"99.999969\" xlink:href=\"#D2Coding-53\"/>\n       <use x=\"149.999954\" xlink:href=\"#D2Coding-50\"/>\n      </g>\n     </g>\n    </g>\n    <g id=\"ytick_3\">\n     <g id=\"line2d_9\">\n      <g>\n       <use style=\"stroke:#000000;stroke-width:0.8;\" x=\"47\" xlink:href=\"#m4088ccfc89\" y=\"344.651857\"/>\n      </g>\n     </g>\n     <g id=\"text_10\">\n      <!-- 0.54 -->\n      <g transform=\"translate(20 348.281545)scale(0.1 -0.1)\">\n       <use xlink:href=\"#D2Coding-48\"/>\n       <use x=\"49.999985\" xlink:href=\"#D2Coding-46\"/>\n       <use x=\"99.999969\" xlink:href=\"#D2Coding-53\"/>\n       <use x=\"149.999954\" xlink:href=\"#D2Coding-52\"/>\n      </g>\n     </g>\n    </g>\n    <g id=\"ytick_4\">\n     <g id=\"line2d_10\">\n      <g>\n       <use style=\"stroke:#000000;stroke-width:0.8;\" x=\"47\" xlink:href=\"#m4088ccfc89\" y=\"272.970631\"/>\n      </g>\n     </g>\n     <g id=\"text_11\">\n      <!-- 0.56 -->\n      <g transform=\"translate(20 276.600318)scale(0.1 -0.1)\">\n       <use xlink:href=\"#D2Coding-48\"/>\n       <use x=\"49.999985\" xlink:href=\"#D2Coding-46\"/>\n       <use x=\"99.999969\" xlink:href=\"#D2Coding-53\"/>\n       <use x=\"149.999954\" xlink:href=\"#D2Coding-54\"/>\n      </g>\n     </g>\n    </g>\n    <g id=\"ytick_5\">\n     <g id=\"line2d_11\">\n      <g>\n       <use style=\"stroke:#000000;stroke-width:0.8;\" x=\"47\" xlink:href=\"#m4088ccfc89\" y=\"201.289404\"/>\n      </g>\n     </g>\n     <g id=\"text_12\">\n      <!-- 0.58 -->\n      <g transform=\"translate(20 204.919092)scale(0.1 -0.1)\">\n       <use xlink:href=\"#D2Coding-48\"/>\n       <use x=\"49.999985\" xlink:href=\"#D2Coding-46\"/>\n       <use x=\"99.999969\" xlink:href=\"#D2Coding-53\"/>\n       <use x=\"149.999954\" xlink:href=\"#D2Coding-56\"/>\n      </g>\n     </g>\n    </g>\n    <g id=\"ytick_6\">\n     <g id=\"line2d_12\">\n      <g>\n       <use style=\"stroke:#000000;stroke-width:0.8;\" x=\"47\" xlink:href=\"#m4088ccfc89\" y=\"129.608178\"/>\n      </g>\n     </g>\n     <g id=\"text_13\">\n      <!-- 0.60 -->\n      <g transform=\"translate(20 133.237865)scale(0.1 -0.1)\">\n       <use xlink:href=\"#D2Coding-48\"/>\n       <use x=\"49.999985\" xlink:href=\"#D2Coding-46\"/>\n       <use x=\"99.999969\" xlink:href=\"#D2Coding-54\"/>\n       <use x=\"149.999954\" xlink:href=\"#D2Coding-48\"/>\n      </g>\n     </g>\n    </g>\n    <g id=\"ytick_7\">\n     <g id=\"line2d_13\">\n      <g>\n       <use style=\"stroke:#000000;stroke-width:0.8;\" x=\"47\" xlink:href=\"#m4088ccfc89\" y=\"57.926951\"/>\n      </g>\n     </g>\n     <g id=\"text_14\">\n      <!-- 0.62 -->\n      <g transform=\"translate(20 61.556639)scale(0.1 -0.1)\">\n       <use xlink:href=\"#D2Coding-48\"/>\n       <use x=\"49.999985\" xlink:href=\"#D2Coding-46\"/>\n       <use x=\"99.999969\" xlink:href=\"#D2Coding-54\"/>\n       <use x=\"149.999954\" xlink:href=\"#D2Coding-50\"/>\n      </g>\n     </g>\n    </g>\n    <g id=\"text_15\">\n     <!-- Accuracy -->\n     <defs>\n      <path d=\"M 29.90625 69.40625 \nL 49.5 1.59375 \nL 40.5 1.59375 \nL 35.5 19.796875 \nL 14.296875 19.796875 \nL 9.296875 1.59375 \nL 0.5 1.59375 \nL 19.703125 69.40625 \nz\nM 24.90625 61.40625 \nL 24.09375 57.296875 \nL 16.203125 26.703125 \nL 33.59375 26.703125 \nL 25.796875 57.296875 \nz\n\" id=\"D2Coding-65\"/>\n      <path d=\"M 43.703125 12.703125 \nL 43.703125 4.703125 \nQ 40.703125 2.09375 37.25 1.1875 \nQ 33.796875 0.296875 29.90625 0.296875 \nQ 18.40625 0.296875 12.453125 7.09375 \nQ 6.5 13.90625 6.5 26.703125 \nQ 6.5 32.796875 7.953125 37.796875 \nQ 9.40625 42.796875 12.34375 46.296875 \nQ 15.296875 49.796875 19.640625 51.75 \nQ 24 53.703125 29.796875 53.703125 \nQ 33.703125 53.703125 37.046875 52.796875 \nQ 40.40625 51.90625 43.40625 49.40625 \nL 43.40625 41.796875 \nL 42.203125 41.796875 \nQ 39.296875 44.203125 36.4375 45.25 \nQ 33.59375 46.296875 30.09375 46.296875 \nQ 25.90625 46.296875 23 44.75 \nQ 20.09375 43.203125 18.34375 40.546875 \nQ 16.59375 37.90625 15.796875 34.34375 \nQ 15 30.796875 15 26.796875 \nQ 15 22.59375 15.796875 19.046875 \nQ 16.59375 15.5 18.390625 12.953125 \nQ 20.203125 10.40625 23.140625 8.953125 \nQ 26.09375 7.5 30.5 7.5 \nQ 37.59375 7.5 42.5 12.703125 \nz\n\" id=\"D2Coding-99\"/>\n      <path d=\"M 6.203125 52.59375 \nL 14.5 52.59375 \nL 14.5 21.796875 \nQ 14.5 13.703125 16.5 10.5 \nQ 18.5 7.296875 23.703125 7.296875 \nQ 26.09375 7.296875 28.25 8.546875 \nQ 30.40625 9.796875 31.953125 12 \nQ 33.5 14.203125 34.390625 17.296875 \nQ 35.296875 20.40625 35.296875 24.09375 \nL 35.296875 52.59375 \nL 43.59375 52.59375 \nL 43.59375 1.59375 \nL 35.90625 1.59375 \nL 35.5 8.40625 \nQ 33.796875 5.203125 30.140625 2.890625 \nQ 26.5 0.59375 22 0.59375 \nQ 17.09375 0.59375 14.046875 2.1875 \nQ 11 3.796875 9.25 6.640625 \nQ 7.5 9.5 6.84375 13.390625 \nQ 6.203125 17.296875 6.203125 22 \nz\n\" id=\"D2Coding-117\"/>\n      <path d=\"M 35.296875 21.5 \nL 35.296875 27.203125 \nL 23.296875 25.203125 \nQ 18.40625 24.5 15.84375 22.296875 \nQ 13.296875 20.09375 13.296875 15.59375 \nQ 13.296875 11.59375 15.34375 9.4375 \nQ 17.40625 7.296875 21.59375 7.296875 \nQ 24.40625 7.296875 26.90625 8.5 \nQ 29.40625 9.703125 31.25 11.640625 \nQ 33.09375 13.59375 34.1875 16.1875 \nQ 35.296875 18.796875 35.296875 21.5 \nz\nM 8.09375 41.296875 \nL 8.09375 49.09375 \nQ 12.09375 51.5 16.140625 52.640625 \nQ 20.203125 53.796875 25.296875 53.796875 \nQ 34.09375 53.796875 38.640625 48.59375 \nQ 43.203125 43.40625 43.203125 34.09375 \nL 43.203125 1.59375 \nL 35.40625 1.59375 \nL 35.09375 8.296875 \nL 34.90625 8.296875 \nQ 32.59375 4.09375 28.75 2.1875 \nQ 24.90625 0.296875 20.296875 0.296875 \nQ 13 0.296875 8.75 4.140625 \nQ 4.5 8 4.5 14.90625 \nQ 4.5 21.796875 8.203125 25.75 \nQ 11.90625 29.703125 19.703125 31 \nL 34.90625 33.5 \nL 34.90625 34.90625 \nQ 34.90625 41.203125 32.453125 43.84375 \nQ 30 46.5 24.90625 46.5 \nQ 20.703125 46.5 16.890625 45.34375 \nQ 13.09375 44.203125 9.203125 41.296875 \nz\n\" id=\"D2Coding-97\"/>\n      <path d=\"M 6.296875 -14.40625 \nL 6.296875 -7.59375 \nL 7.5 -7.59375 \nQ 8.90625 -8.09375 10.15625 -8.4375 \nQ 11.40625 -8.796875 12.296875 -8.796875 \nQ 15.203125 -8.796875 17 -7.5 \nQ 18.796875 -6.203125 20.296875 -2 \nL 22 4.09375 \nL 3.296875 52.59375 \nL 12.703125 52.59375 \nL 25.40625 16.796875 \nL 26.09375 14.203125 \nL 26.796875 16.796875 \nL 38.203125 52.59375 \nL 47 52.59375 \nL 29.296875 1.203125 \nQ 27.796875 -3.296875 26.25 -6.4375 \nQ 24.703125 -9.59375 22.84375 -11.59375 \nQ 21 -13.59375 18.75 -14.5 \nQ 16.5 -15.40625 13.59375 -15.40625 \nQ 11.90625 -15.40625 10.15625 -15.203125 \nQ 8.40625 -15 6.296875 -14.40625 \nz\n\" id=\"D2Coding-121\"/>\n     </defs>\n     <g transform=\"translate(14.459375 286.53125)rotate(-90)scale(0.1 -0.1)\">\n      <use xlink:href=\"#D2Coding-65\"/>\n      <use x=\"49.999985\" xlink:href=\"#D2Coding-99\"/>\n      <use x=\"99.999969\" xlink:href=\"#D2Coding-99\"/>\n      <use x=\"149.999954\" xlink:href=\"#D2Coding-117\"/>\n      <use x=\"199.999939\" xlink:href=\"#D2Coding-114\"/>\n      <use x=\"249.999924\" xlink:href=\"#D2Coding-97\"/>\n      <use x=\"299.999908\" xlink:href=\"#D2Coding-99\"/>\n      <use x=\"349.999893\" xlink:href=\"#D2Coding-121\"/>\n     </g>\n    </g>\n   </g>\n   <g id=\"line2d_14\">\n    <path clip-path=\"url(#p1e353cdb65)\" d=\"M 87.581818 292.920721 \nL 168.745455 44.149432 \nL 249.909091 112.532752 \nL 331.072727 185.14752 \nL 412.236364 254.648215 \nL 493.4 318.221966 \nL 574.563636 374.129557 \nL 655.727273 420.505457 \nL 736.890909 455.192649 \nL 818.054545 477.185494 \nL 899.218182 488.913068 \n\" style=\"fill:none;stroke:#1f77b4;stroke-linecap:square;stroke-width:1.5;\"/>\n   </g>\n   <g id=\"patch_3\">\n    <path d=\"M 47 511.15125 \nL 47 21.91125 \n\" style=\"fill:none;stroke:#000000;stroke-linecap:square;stroke-linejoin:miter;stroke-width:0.8;\"/>\n   </g>\n   <g id=\"patch_4\">\n    <path d=\"M 939.8 511.15125 \nL 939.8 21.91125 \n\" style=\"fill:none;stroke:#000000;stroke-linecap:square;stroke-linejoin:miter;stroke-width:0.8;\"/>\n   </g>\n   <g id=\"patch_5\">\n    <path d=\"M 47 511.15125 \nL 939.8 511.15125 \n\" style=\"fill:none;stroke:#000000;stroke-linecap:square;stroke-linejoin:miter;stroke-width:0.8;\"/>\n   </g>\n   <g id=\"patch_6\">\n    <path d=\"M 47 21.91125 \nL 939.8 21.91125 \n\" style=\"fill:none;stroke:#000000;stroke-linecap:square;stroke-linejoin:miter;stroke-width:0.8;\"/>\n   </g>\n   <g id=\"text_16\">\n    <!-- Accuracy by threshold -->\n    <defs>\n     <path id=\"D2Coding-32\"/>\n     <path d=\"M 14.703125 22 \nQ 14.703125 18.703125 15.546875 16 \nQ 16.40625 13.296875 17.90625 11.34375 \nQ 19.40625 9.40625 21.40625 8.34375 \nQ 23.40625 7.296875 25.796875 7.296875 \nQ 31.40625 7.296875 34.203125 11.890625 \nQ 37 16.5 37 27 \nQ 37 37.40625 33.953125 42.15625 \nQ 30.90625 46.90625 25.90625 46.90625 \nQ 22.59375 46.90625 20.4375 45.59375 \nQ 18.296875 44.296875 17 42.140625 \nQ 15.703125 40 15.203125 37.296875 \nQ 14.703125 34.59375 14.703125 31.796875 \nz\nM 27.59375 53.59375 \nQ 32.703125 53.59375 36.09375 51.25 \nQ 39.5 48.90625 41.546875 45.15625 \nQ 43.59375 41.40625 44.5 36.703125 \nQ 45.40625 32 45.40625 27.296875 \nQ 45.40625 22.296875 44.59375 17.4375 \nQ 43.796875 12.59375 41.6875 8.796875 \nQ 39.59375 5 36.046875 2.640625 \nQ 32.5 0.296875 27 0.296875 \nQ 25.203125 0.296875 23.296875 0.796875 \nQ 21.40625 1.296875 19.75 2.1875 \nQ 18.09375 3.09375 16.796875 4.390625 \nQ 15.5 5.703125 14.90625 7.203125 \nL 14.796875 7.203125 \nL 14.5 1.59375 \nL 6.40625 1.59375 \nL 6.40625 72.59375 \nL 14.703125 72.59375 \nL 14.703125 46.59375 \nL 14.796875 46.59375 \nQ 16.59375 49.90625 20.140625 51.75 \nQ 23.703125 53.59375 27.59375 53.59375 \nz\n\" id=\"D2Coding-98\"/>\n     <path d=\"M 43.09375 9.796875 \nL 43.09375 3.40625 \nQ 41.09375 1.90625 38.09375 1.25 \nQ 35.09375 0.59375 32.5 0.59375 \nQ 25.5 0.59375 21.390625 4.09375 \nQ 17.296875 7.59375 17.296875 14.796875 \nL 17.296875 45.703125 \nL 6.796875 45.703125 \nL 6.796875 52.59375 \nL 17.296875 52.59375 \nL 17.296875 65.796875 \nL 25.703125 69.796875 \nL 25.703125 52.59375 \nL 42.40625 52.59375 \nL 42.40625 45.703125 \nL 25.703125 45.703125 \nL 25.703125 15.59375 \nQ 25.703125 7.703125 33.5 7.703125 \nQ 35.90625 7.703125 38.046875 8.296875 \nQ 40.203125 8.90625 41.90625 9.796875 \nz\n\" id=\"D2Coding-116\"/>\n    </defs>\n    <g transform=\"translate(430.4 15.91125)scale(0.12 -0.12)\">\n     <use xlink:href=\"#D2Coding-65\"/>\n     <use x=\"49.999985\" xlink:href=\"#D2Coding-99\"/>\n     <use x=\"99.999969\" xlink:href=\"#D2Coding-99\"/>\n     <use x=\"149.999954\" xlink:href=\"#D2Coding-117\"/>\n     <use x=\"199.999939\" xlink:href=\"#D2Coding-114\"/>\n     <use x=\"249.999924\" xlink:href=\"#D2Coding-97\"/>\n     <use x=\"299.999908\" xlink:href=\"#D2Coding-99\"/>\n     <use x=\"349.999893\" xlink:href=\"#D2Coding-121\"/>\n     <use x=\"399.999878\" xlink:href=\"#D2Coding-32\"/>\n     <use x=\"449.999863\" xlink:href=\"#D2Coding-98\"/>\n     <use x=\"499.999847\" xlink:href=\"#D2Coding-121\"/>\n     <use x=\"549.999832\" xlink:href=\"#D2Coding-32\"/>\n     <use x=\"599.999817\" xlink:href=\"#D2Coding-116\"/>\n     <use x=\"649.999802\" xlink:href=\"#D2Coding-104\"/>\n     <use x=\"699.999786\" xlink:href=\"#D2Coding-114\"/>\n     <use x=\"749.999771\" xlink:href=\"#D2Coding-101\"/>\n     <use x=\"799.999756\" xlink:href=\"#D2Coding-115\"/>\n     <use x=\"849.999741\" xlink:href=\"#D2Coding-104\"/>\n     <use x=\"899.999725\" xlink:href=\"#D2Coding-111\"/>\n     <use x=\"949.99971\" xlink:href=\"#D2Coding-108\"/>\n     <use x=\"999.999695\" xlink:href=\"#D2Coding-100\"/>\n    </g>\n   </g>\n  </g>\n </g>\n <defs>\n  <clipPath id=\"p1e353cdb65\">\n   <rect height=\"489.24\" width=\"892.8\" x=\"47\" y=\"21.91125\"/>\n  </clipPath>\n </defs>\n</svg>\n",
      "image/png": "[encoded data removed]"
     },
     "metadata": {
      "needs_background": "light"
     }
    }
   ],
   "source": [
    "plt.figure(figsize=(16, 9))\n",
    "plt.plot(list(scores.keys()), list(scores.values()))\n",
    "plt.title('Accuracy by threshold')\n",
    "plt.xlabel('Threshold')\n",
    "plt.ylabel('Accuracy')\n",
    "plt.show()"
   ]
  },
  {
   "cell_type": "markdown",
   "metadata": {},
   "source": [
    "## Submission <a id=\"3\"></a>"
   ]
  },
  {
   "cell_type": "markdown",
   "metadata": {},
   "source": [
    "### Make Full Train Dataset <a id=\"3.1\"></a>"
   ]
  },
  {
   "cell_type": "code",
   "execution_count": 41,
   "metadata": {},
   "outputs": [
    {
     "output_type": "execute_result",
     "data": {
      "text/plain": "                                           msno  \\\n0  FGtllVqz18RPiwJj/edr2gV78zirAiY/9SmYvia+kCg=   \n1  Xumu+NIjS6QYVxDS4/t3SawvJ7viT9hPKXmf0RtLNx8=   \n2  Xumu+NIjS6QYVxDS4/t3SawvJ7viT9hPKXmf0RtLNx8=   \n3  FGtllVqz18RPiwJj/edr2gV78zirAiY/9SmYvia+kCg=   \n4  Xumu+NIjS6QYVxDS4/t3SawvJ7viT9hPKXmf0RtLNx8=   \n\n                                        song_id source_system_tab  \\\n0  BBzumQNXUHKdEBOB7mAJuzok+IJA1c2Ryg/yzTF6tik=           explore   \n1  bhp/MpSNoqoxOIB+/l8WPqu6jldth4DIpCm3ayXnJqM=        my library   \n2  JNWfrrC7zNN7BdMpsISKa4Mw+xVJYNnxXh3/Epw7QgY=        my library   \n3  3Hg5kugV1S0wzEVLAEfqjIV5UHzb7bCrdBRQlGygLvU=           explore   \n4  VkILU0H1h3NMmk9MQrXouNudGk5n8Ls5cqRRuBxeTh4=        my library   \n\n    source_screen_name      source_type  target  \n0              Explore  online-playlist       1  \n1  Local playlist more   local-playlist       1  \n2  Local playlist more   local-playlist       1  \n3              Explore  online-playlist       1  \n4  Local playlist more   local-playlist       1  ",
      "text/html": "<div>\n<style scoped>\n    .dataframe tbody tr th:only-of-type {\n        vertical-align: middle;\n    }\n\n    .dataframe tbody tr th {\n        vertical-align: top;\n    }\n\n    .dataframe thead th {\n        text-align: right;\n    }\n</style>\n<table border=\"1\" class=\"dataframe\">\n  <thead>\n    <tr style=\"text-align: right;\">\n      <th></th>\n      <th>msno</th>\n      <th>song_id</th>\n      <th>source_system_tab</th>\n      <th>source_screen_name</th>\n      <th>source_type</th>\n      <th>target</th>\n    </tr>\n  </thead>\n  <tbody>\n    <tr>\n      <th>0</th>\n      <td>FGtllVqz18RPiwJj/edr2gV78zirAiY/9SmYvia+kCg=</td>\n      <td>BBzumQNXUHKdEBOB7mAJuzok+IJA1c2Ryg/yzTF6tik=</td>\n      <td>explore</td>\n      <td>Explore</td>\n      <td>online-playlist</td>\n      <td>1</td>\n    </tr>\n    <tr>\n      <th>1</th>\n      <td>Xumu+NIjS6QYVxDS4/t3SawvJ7viT9hPKXmf0RtLNx8=</td>\n      <td>bhp/MpSNoqoxOIB+/l8WPqu6jldth4DIpCm3ayXnJqM=</td>\n      <td>my library</td>\n      <td>Local playlist more</td>\n      <td>local-playlist</td>\n      <td>1</td>\n    </tr>\n    <tr>\n      <th>2</th>\n      <td>Xumu+NIjS6QYVxDS4/t3SawvJ7viT9hPKXmf0RtLNx8=</td>\n      <td>JNWfrrC7zNN7BdMpsISKa4Mw+xVJYNnxXh3/Epw7QgY=</td>\n      <td>my library</td>\n      <td>Local playlist more</td>\n      <td>local-playlist</td>\n      <td>1</td>\n    </tr>\n    <tr>\n      <th>3</th>\n      <td>FGtllVqz18RPiwJj/edr2gV78zirAiY/9SmYvia+kCg=</td>\n      <td>3Hg5kugV1S0wzEVLAEfqjIV5UHzb7bCrdBRQlGygLvU=</td>\n      <td>explore</td>\n      <td>Explore</td>\n      <td>online-playlist</td>\n      <td>1</td>\n    </tr>\n    <tr>\n      <th>4</th>\n      <td>Xumu+NIjS6QYVxDS4/t3SawvJ7viT9hPKXmf0RtLNx8=</td>\n      <td>VkILU0H1h3NMmk9MQrXouNudGk5n8Ls5cqRRuBxeTh4=</td>\n      <td>my library</td>\n      <td>Local playlist more</td>\n      <td>local-playlist</td>\n      <td>1</td>\n    </tr>\n  </tbody>\n</table>\n</div>"
     },
     "metadata": {},
     "execution_count": 41
    }
   ],
   "source": [
    "train = pd.concat([train, validation], ignore_index=True, axis=0).reset_index(drop=True)\n",
    "train.head()"
   ]
  },
  {
   "cell_type": "code",
   "execution_count": 42,
   "metadata": {},
   "outputs": [
    {
     "output_type": "execute_result",
     "data": {
      "text/plain": "(7377418, 6)"
     },
     "metadata": {},
     "execution_count": 42
    }
   ],
   "source": [
    "train.shape"
   ]
  },
  {
   "cell_type": "markdown",
   "metadata": {},
   "source": [
    "### Modeling using Full Train Dataset <a id=\"3.2\"></a>"
   ]
  },
  {
   "cell_type": "code",
   "execution_count": 43,
   "metadata": {},
   "outputs": [],
   "source": [
    "msno = train.msno.unique()\n",
    "song_id = train.song_id.unique()"
   ]
  },
  {
   "cell_type": "code",
   "execution_count": 44,
   "metadata": {},
   "outputs": [],
   "source": [
    "msno2idx = {m: idx for idx, m in enumerate(msno)}\n",
    "song2idx = {s: idx for idx, s in enumerate(song_id)}"
   ]
  },
  {
   "cell_type": "code",
   "execution_count": 45,
   "metadata": {},
   "outputs": [],
   "source": [
    "users = np.array(train.msno.apply(lambda x: msno2idx[x]))\n",
    "items = np.array(train.song_id.apply(lambda x: song2idx[x]))\n",
    "data = np.array(train.target)"
   ]
  },
  {
   "cell_type": "code",
   "execution_count": 46,
   "metadata": {},
   "outputs": [],
   "source": [
    "train_csr = csr_matrix((data, (users, items)))"
   ]
  },
  {
   "cell_type": "code",
   "execution_count": 47,
   "metadata": {},
   "outputs": [
    {
     "output_type": "execute_result",
     "data": {
      "text/plain": "<30755x359966 sparse matrix of type '<class 'numpy.longlong'>'\n\twith 7377418 stored elements in Compressed Sparse Row format>"
     },
     "metadata": {},
     "execution_count": 47
    }
   ],
   "source": [
    "train_csr"
   ]
  },
  {
   "cell_type": "code",
   "execution_count": 48,
   "metadata": {},
   "outputs": [],
   "source": [
    "svd = TruncatedSVD(n_components=100, n_iter=5, random_state=2020)\n",
    "U = svd.fit_transform(train_csr)\n",
    "S = np.diag(svd.singular_values_)\n",
    "Vt = svd.components_.T"
   ]
  },
  {
   "cell_type": "markdown",
   "metadata": {},
   "source": [
    "### Make Prediction for Submission <a id=\"3.3\"></a>"
   ]
  },
  {
   "cell_type": "code",
   "execution_count": 49,
   "metadata": {},
   "outputs": [],
   "source": [
    "users = test.msno.apply(lambda x: item_to_idx(x, msno2idx))\n",
    "items = test.song_id.apply(lambda x: item_to_idx(x, song2idx))"
   ]
  },
  {
   "cell_type": "code",
   "execution_count": 50,
   "metadata": {},
   "outputs": [
    {
     "output_type": "stream",
     "name": "stderr",
     "text": "2556790it [00:07, 328206.33it/s]\n"
    }
   ],
   "source": [
    "prediction = list()\n",
    "for user, item in tqdm(zip(users, items)):\n",
    "    if user == -1 or item == -1:\n",
    "        p = 0\n",
    "    else:\n",
    "        _, p = predict(U[user], Vt[item], 0.1)\n",
    "    prediction.append(p)"
   ]
  },
  {
   "cell_type": "code",
   "execution_count": 51,
   "metadata": {},
   "outputs": [
    {
     "output_type": "execute_result",
     "data": {
      "text/plain": "              id  target\n0              0       0\n1              1       0\n2              2       0\n3              3       0\n4              4       0\n...          ...     ...\n2556785  2556785       0\n2556786  2556786       0\n2556787  2556787       0\n2556788  2556788       0\n2556789  2556789       0\n\n[2556790 rows x 2 columns]",
      "text/html": "<div>\n<style scoped>\n    .dataframe tbody tr th:only-of-type {\n        vertical-align: middle;\n    }\n\n    .dataframe tbody tr th {\n        vertical-align: top;\n    }\n\n    .dataframe thead th {\n        text-align: right;\n    }\n</style>\n<table border=\"1\" class=\"dataframe\">\n  <thead>\n    <tr style=\"text-align: right;\">\n      <th></th>\n      <th>id</th>\n      <th>target</th>\n    </tr>\n  </thead>\n  <tbody>\n    <tr>\n      <th>0</th>\n      <td>0</td>\n      <td>0</td>\n    </tr>\n    <tr>\n      <th>1</th>\n      <td>1</td>\n      <td>0</td>\n    </tr>\n    <tr>\n      <th>2</th>\n      <td>2</td>\n      <td>0</td>\n    </tr>\n    <tr>\n      <th>3</th>\n      <td>3</td>\n      <td>0</td>\n    </tr>\n    <tr>\n      <th>4</th>\n      <td>4</td>\n      <td>0</td>\n    </tr>\n    <tr>\n      <th>...</th>\n      <td>...</td>\n      <td>...</td>\n    </tr>\n    <tr>\n      <th>2556785</th>\n      <td>2556785</td>\n      <td>0</td>\n    </tr>\n    <tr>\n      <th>2556786</th>\n      <td>2556786</td>\n      <td>0</td>\n    </tr>\n    <tr>\n      <th>2556787</th>\n      <td>2556787</td>\n      <td>0</td>\n    </tr>\n    <tr>\n      <th>2556788</th>\n      <td>2556788</td>\n      <td>0</td>\n    </tr>\n    <tr>\n      <th>2556789</th>\n      <td>2556789</td>\n      <td>0</td>\n    </tr>\n  </tbody>\n</table>\n<p>2556790 rows × 2 columns</p>\n</div>"
     },
     "metadata": {},
     "execution_count": 51
    }
   ],
   "source": [
    "sample_submission['target'] = prediction\n",
    "sample_submission"
   ]
  },
  {
   "cell_type": "code",
   "execution_count": 52,
   "metadata": {},
   "outputs": [],
   "source": [
    "sample_submission.to_csv('../data/submissions/model_v1.csv', index=False)"
   ]
  },
  {
   "cell_type": "code",
   "execution_count": null,
   "metadata": {},
   "outputs": [],
   "source": []
  }
 ],
 "metadata": {
  "language_info": {
   "codemirror_mode": {
    "name": "ipython",
    "version": 3
   },
   "file_extension": ".py",
   "mimetype": "text/x-python",
   "name": "python",
   "nbconvert_exporter": "python",
   "pygments_lexer": "ipython3",
   "version": "3.7.4-final"
  },
  "orig_nbformat": 2,
  "kernelspec": {
   "name": "python37464bitvenvvenvb744d47edf9f469fa89d4009c71fb2dc",
   "display_name": "Python 3.7.4 64-bit ('venv': venv)"
  }
 },
 "nbformat": 4,
 "nbformat_minor": 2
}